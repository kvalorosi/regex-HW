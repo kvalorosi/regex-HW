{
 "cells": [
  {
   "cell_type": "code",
   "execution_count": 7,
   "id": "bc41c756",
   "metadata": {},
   "outputs": [
    {
     "name": "stdout",
     "output_type": "stream",
     "text": [
      "['Hawkins, Derek\\tderek@codingtemple.com\\t(555) 555-5555\\tTeacher, Coding Temple\\t@derekhawkins\\n', 'Zhai, Mo\\tmozhai@codingtemple.com\\t(555) 555-5554\\tTeacher, Coding Temple\\n', 'Johnson, Joe\\tjoejohnson@codingtemple.com\\t\\tJohson, Joe\\n', 'Osterberg, Sven-Erik\\tgovernor@norrbotten.co.se\\t\\tGovernor, Norrbotten\\t@sverik\\n', ', Tim\\ttim@killerrabbit.com\\t\\tEnchanter, Killer Rabbit Cave\\n', 'Butz, Ryan\\tryanb@codingtemple.com\\t(555) 555-5543\\tCEO, Coding Temple\\t@ryanbutz\\n', 'Doctor, The\\tdoctor+companion@tardis.co.uk\\t\\tTime Lord, Gallifrey\\n', 'Exampleson, Example\\tme@example.com\\t555-555-5552\\tExample, Example Co.\\t@example\\n', 'Pael, Ripal\\tripalp@codingtemple.com\\t(555) 555-5553\\tTeacher, Coding Temple\\t@ripalp\\n', 'Vader, Darth\\tdarth-vader@empire.gov\\t(555) 555-4444\\tSith Lord, Galactic Empire\\t@darthvader\\n', 'Fernandez de la Vega Sanz, Maria Teresa\\tmtfvs@spain.gov\\t\\tFirst Deputy Prime Minister, Spanish Gov\\n']\n",
      "None\n",
      "None\n",
      "None\n",
      "None\n",
      "None\n",
      "None\n",
      "None\n",
      "None\n",
      "None\n",
      "None\n",
      "None\n"
     ]
    }
   ],
   "source": [
    "import re\n",
    "with open(\"names.txt\") as f:\n",
    "    data2 = f.readlines()\n",
    "    print(data2)\n",
    "\n",
    "pat_name2 = re.compile(r'([A-Z][a-z]+(?: [A-Z][a-z]+))\\ [@]([a-zA-Z0-9\\-_]+)')\n",
    "\n",
    "\n",
    "for name in data2:\n",
    "    match = pat_name2.search(name)\n",
    "    if match:\n",
    "        full_name = match.group(1)\n",
    "        twitter_n = match.group(2)\n",
    "        print(f\"{full_name} / @{twitter_n}\")\n",
    "    else:\n",
    "        print(\"None\")\n",
    "\n",
    "\n",
    "\n",
    "\n",
    "# Okay so this makes sense to me, the pattern makes sense:I am looking for a capitalized letter and lowercase letter \n",
    "# for a fist name, then an optional middle name followed a name that can conatin letters, numbers and dashes as a \n",
    "# twitter handle. However my output remains None....Something isn't right in the pattern I presume."
   ]
  },
  {
   "cell_type": "code",
   "execution_count": 1,
   "id": "9dc135b9",
   "metadata": {},
   "outputs": [
    {
     "name": "stdout",
     "output_type": "stream",
     "text": [
      "['Abraham Lincoln\\n', 'Andrew P Garfield\\n', 'Connor Milliken\\n', 'Jordan Alexander Williams\\n', 'Madonna\\n', 'programming is cool\\n']\n",
      "Abraham Lincoln\n",
      "Andrew P Garfield\n",
      "Connor Milliken\n",
      "Jordan Alexander\n",
      "None\n",
      "None\n"
     ]
    }
   ],
   "source": [
    "import re\n",
    "\n",
    "with open(\"regex_test.txt\") as f:\n",
    "    data2 = f.readlines()\n",
    "    print(data2)\n",
    "   \n",
    "\n",
    "pat_name2 = re.compile(r'([A-Z][a-z]+(?: [A-Z])? [A-Z][a-z]+)')\n",
    "\n",
    "for line in data2:\n",
    "    match = pat_name2.search(line)\n",
    "    if match:\n",
    "        last_name = match.group(1) \n",
    "        print(last_name)\n",
    "    else:\n",
    "        print(\"None\")\n",
    "        "
   ]
  },
  {
   "cell_type": "code",
   "execution_count": null,
   "id": "839be528",
   "metadata": {},
   "outputs": [],
   "source": []
  }
 ],
 "metadata": {
  "kernelspec": {
   "display_name": "Python 3 (ipykernel)",
   "language": "python",
   "name": "python3"
  },
  "language_info": {
   "codemirror_mode": {
    "name": "ipython",
    "version": 3
   },
   "file_extension": ".py",
   "mimetype": "text/x-python",
   "name": "python",
   "nbconvert_exporter": "python",
   "pygments_lexer": "ipython3",
   "version": "3.10.9"
  }
 },
 "nbformat": 4,
 "nbformat_minor": 5
}
